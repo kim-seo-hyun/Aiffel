{
 "cells": [
  {
   "cell_type": "markdown",
   "id": "6110ea2f",
   "metadata": {},
   "source": [
    "### Tensorflow (ft.keras)\n",
    "\n",
    "- keyword: tensolflow, keras, numpy, sequantial, funcional,  model, flatten, dense, conv2D, maxfool, relu, activation, softmax, dropout, compile, optimizer, loss, metrics, adam, fit, epochs, accuracy, evaluate, verbose, overfitting, \n",
    "\n",
    "TensorFlow is a free and open-source software library for machine learning and artificial intelligence. It can be used across a range of tasks but has a particular focus on training and inference of deep neural networks.\n",
    "\n",
    "When to use a Sequential model\n",
    "A Sequential model is appropriate for a plain stack of layers where each layer has exactly one input tensor and one output tensor."
   ]
  },
  {
   "cell_type": "markdown",
   "id": "5b3bcdc2",
   "metadata": {},
   "source": [
    "## EXPLORATION_01\n",
    "\n",
    "### Tensorflow_keras를 이용해서 가위바위보 판독기 만들기\n",
    "\n",
    "\n",
    "#### standard\n",
    "1. 이미지 분류기 모델이 성공적으로 만들어지고 트레이닝이 정상적으로 수행되었는가? 모델 잘 만들고 트레이닝 시켰는지\n",
    "2. 오버피팅을 극복하기 위한  데이터셋의 다양성, 정규화 등의 시도가 적절하였는가? 데이터셋를 잘 만들었는지\n",
    "3. 분류모델의 test accuracy가 60% 이상 도달하였는가? accuracy\n",
    "\n",
    "    \n",
    "#### sequence\n",
    "1. 데이터 준비: 필요한 Library import -> 데이터 Resizing(shape) -> 데이터 labeling 및 행렬 생성 -> 데이터 정규화\n",
    "2. 인공지능 모델 구현:tensorflow와 keras로 구축 \n",
    "3. 인공지능 모델 학습\n",
    "4. 모델 평가: Validation set으로 모델 성능 검증 -> Test set으로 모델 성능 평가\n",
    "\n",
    "    \n",
    "#### trial and error"
   ]
  },
  {
   "cell_type": "code",
   "execution_count": 8,
   "id": "11e51c02",
   "metadata": {},
   "outputs": [],
   "source": [
    "import tensorflow as tf\n",
    "from tensorflow import keras\n",
    "\n",
    "import numpy as np\n",
    "import matplotlib.pyplot as plt\n",
    "\n",
    "import os\n",
    "from PIL import Image\n",
    "import glob"
   ]
  },
  {
   "cell_type": "markdown",
   "id": "90771a67",
   "metadata": {},
   "source": [
    "#### 데이터 Resizing"
   ]
  },
  {
   "cell_type": "code",
   "execution_count": 14,
   "id": "238199d7",
   "metadata": {},
   "outputs": [
    {
     "name": "stdout",
     "output_type": "stream",
     "text": [
      "200  images to be resized.\n",
      "200  images resized.\n",
      "가위 이미지 resize 완료!\n"
     ]
    }
   ],
   "source": [
    "from PIL import Image\n",
    "import os, glob\n",
    "import numpy as np\n",
    "\n",
    "def resize_images(img_path):\n",
    "    images=glob.glob(img_path + \"/*.jpg\")  \n",
    "    \n",
    "    print(len(images), \" images to be resized.\")\n",
    "\n",
    "    # 파일마다 모두 28x28 사이즈로 바꾸어 저장합니다.\n",
    "    target_size=(112,112)\n",
    "    for img in images:\n",
    "        old_img=Image.open(img)\n",
    "        new_img=old_img.resize(target_size,Image.ANTIALIAS)\n",
    "        new_img.save(img, \"JPEG\")\n",
    "    \n",
    "    print(len(images), \" images resized.\")\n",
    "\n",
    "# 가위 이미지가 저장된 디렉토리 아래의 모든 jpg 파일을 읽어들여서\n",
    "image_dir_path = os.getenv(\"HOME\") + \"/aiffel/EXPLORATIONS/EX_01/scissor\"\n",
    "resize_images(image_dir_path)\n",
    "\n",
    "print(\"가위 이미지 resize 완료!\")"
   ]
  },
  {
   "cell_type": "code",
   "execution_count": 15,
   "id": "58ea6d76",
   "metadata": {},
   "outputs": [
    {
     "name": "stdout",
     "output_type": "stream",
     "text": [
      "200  images to be resized.\n",
      "200  images resized.\n",
      "바위 이미지 resize 완료!\n"
     ]
    }
   ],
   "source": [
    "from PIL import Image\n",
    "import os, glob\n",
    "import numpy as np\n",
    "\n",
    "def resize_images(img_path):\n",
    "    images=glob.glob(img_path + \"/*.jpg\")  \n",
    "    \n",
    "    print(len(images), \" images to be resized.\")\n",
    "\n",
    "    # 파일마다 모두 28x28 사이즈로 바꾸어 저장합니다.\n",
    "    target_size=(112,112)\n",
    "    for img in images:\n",
    "        old_img=Image.open(img)\n",
    "        new_img=old_img.resize(target_size,Image.ANTIALIAS)\n",
    "        new_img.save(img, \"JPEG\")\n",
    "    \n",
    "    print(len(images), \" images resized.\")\n",
    "\n",
    "# 가위 이미지가 저장된 디렉토리 아래의 모든 jpg 파일을 읽어들여서\n",
    "image_dir_path = os.getenv(\"HOME\") + \"/aiffel/EXPLORATIONS/EX_01/rock\"\n",
    "resize_images(image_dir_path)\n",
    "\n",
    "print(\"바위 이미지 resize 완료!\")"
   ]
  },
  {
   "cell_type": "code",
   "execution_count": 16,
   "id": "afa47b84",
   "metadata": {},
   "outputs": [
    {
     "name": "stdout",
     "output_type": "stream",
     "text": [
      "200  images to be resized.\n",
      "200  images resized.\n",
      "보 이미지 resize 완료!\n"
     ]
    }
   ],
   "source": [
    "from PIL import Image\n",
    "import os, glob\n",
    "import numpy as np\n",
    "\n",
    "def resize_images(img_path):\n",
    "    images=glob.glob(img_path + \"/*.jpg\")  \n",
    "    \n",
    "    print(len(images), \" images to be resized.\")\n",
    "\n",
    "    # 파일마다 모두 28x28 사이즈로 바꾸어 저장합니다.\n",
    "    target_size=(112,112)\n",
    "    for img in images:\n",
    "        old_img=Image.open(img)\n",
    "        new_img=old_img.resize(target_size,Image.ANTIALIAS)\n",
    "        new_img.save(img, \"JPEG\")\n",
    "    \n",
    "    print(len(images), \" images resized.\")\n",
    "\n",
    "# 가위 이미지가 저장된 디렉토리 아래의 모든 jpg 파일을 읽어들여서\n",
    "image_dir_path = os.getenv(\"HOME\") + \"/aiffel/EXPLORATIONS/EX_01/paper\"\n",
    "resize_images(image_dir_path)\n",
    "\n",
    "print(\"보 이미지 resize 완료!\")"
   ]
  },
  {
   "cell_type": "markdown",
   "id": "836aa6a3",
   "metadata": {},
   "source": [
    "#### 데이터 labeling 및 행렬 생성"
   ]
  },
  {
   "cell_type": "code",
   "execution_count": 17,
   "id": "32965c3a",
   "metadata": {},
   "outputs": [],
   "source": [
    "import numpy as np\n",
    "\n",
    "def load_data(img_path, number_of_data=600):  # 가위바위보 이미지 개수 총합에 주의\n",
    "    # 가위 : 0, 바위 : 1, 보 : 2\n",
    "    img_size=112\n",
    "    color=3\n",
    "    #이미지 데이터와 라벨(가위 : 0, 바위 : 1, 보 : 2) 데이터를 담을 행렬(matrix) 영역을 생성\n",
    "    imgs=np.zeros(number_of_data*img_size*img_size*color,dtype=np.int32).reshape(number_of_data,img_size,img_size,color)\n",
    "    labels=np.zeros(number_of_data,dtype=np.int32)\n",
    "\n",
    "    idx=0\n",
    "    for file in glob.iglob(img_path+'/scissor/*.jpg'):\n",
    "        img = np.array(Image.open(file),dtype=np.int32)\n",
    "        imgs[idx,:,:,:]=img    # 데이터 영역에 이미지 행렬을 복사\n",
    "        labels[idx]=0   # 가위 : 0\n",
    "        idx=idx+1\n",
    "\n",
    "    for file in glob.iglob(img_path+'/rock/*.jpg'):\n",
    "        img = np.array(Image.open(file),dtype=np.int32)\n",
    "        imgs[idx,:,:,:]=img    # 데이터 영역에 이미지 행렬을 복사\n",
    "        labels[idx]=1   # 바위 : 1\n",
    "        idx=idx+1  \n",
    "    \n",
    "    for file in glob.iglob(img_path+'/paper/*.jpg'):\n",
    "        img = np.array(Image.open(file),dtype=np.int32)\n",
    "        imgs[idx,:,:,:]=img    # 데이터 영역에 이미지 행렬을 복사\n",
    "        labels[idx]=2   # 보 : 2\n",
    "        idx=idx+1\n",
    "        \n",
    "    print(\"학습데이터(x_train)의 이미지 개수는\", idx,\"입니다.\")\n",
    "    return imgs, labels"
   ]
  },
  {
   "cell_type": "markdown",
   "id": "0dd26f09",
   "metadata": {},
   "source": [
    "#### 데이터 정규화"
   ]
  },
  {
   "cell_type": "code",
   "execution_count": 18,
   "id": "1c8ec225",
   "metadata": {},
   "outputs": [
    {
     "name": "stdout",
     "output_type": "stream",
     "text": [
      "학습데이터(x_train)의 이미지 개수는 600 입니다.\n",
      "x_train shape: (600, 112, 112, 3)\n",
      "y_train shape: (600,)\n"
     ]
    }
   ],
   "source": [
    "image_dir_path = os.getenv(\"HOME\") + \"//aiffel/EXPLORATIONS/EX_01/\"\n",
    "(x_train, y_train)=load_data(image_dir_path)\n",
    "x_train_norm = x_train/255.0   # 입력은 0~1 사이의 값으로 정규화\n",
    "\n",
    "print(\"x_train shape: {}\".format(x_train.shape))\n",
    "print(\"y_train shape: {}\".format(y_train.shape))"
   ]
  },
  {
   "cell_type": "code",
   "execution_count": 19,
   "id": "d5432db5",
   "metadata": {},
   "outputs": [
    {
     "name": "stdout",
     "output_type": "stream",
     "text": [
      "라벨:  0\n"
     ]
    },
    {
     "data": {
      "image/png": "[encoded data removed]",
      "text/plain": [
       "<Figure size 432x288 with 1 Axes>"
      ]
     },
     "metadata": {
      "needs_background": "light"
     },
     "output_type": "display_data"
    }
   ],
   "source": [
    "plt.imshow(x_train[0])\n",
    "print('라벨: ', y_train[0])"
   ]
  },
  {
   "cell_type": "markdown",
   "id": "895ebac1",
   "metadata": {},
   "source": [
    "#### 모델을 만들어봅시다"
   ]
  },
  {
   "cell_type": "code",
   "execution_count": 22,
   "id": "6e18f7fc",
   "metadata": {},
   "outputs": [
    {
     "name": "stdout",
     "output_type": "stream",
     "text": [
      "Model에 추가된 Layer 개수:  7\n",
      "Model: \"sequential_2\"\n",
      "_________________________________________________________________\n",
      "Layer (type)                 Output Shape              Param #   \n",
      "=================================================================\n",
      "conv2d_4 (Conv2D)            (None, 110, 110, 16)      448       \n",
      "_________________________________________________________________\n",
      "max_pooling2d_4 (MaxPooling2 (None, 55, 55, 16)        0         \n",
      "_________________________________________________________________\n",
      "conv2d_5 (Conv2D)            (None, 53, 53, 32)        4640      \n",
      "_________________________________________________________________\n",
      "max_pooling2d_5 (MaxPooling2 (None, 26, 26, 32)        0         \n",
      "_________________________________________________________________\n",
      "flatten_2 (Flatten)          (None, 21632)             0         \n",
      "_________________________________________________________________\n",
      "dense_4 (Dense)              (None, 125)               2704125   \n",
      "_________________________________________________________________\n",
      "dense_5 (Dense)              (None, 3)                 378       \n",
      "=================================================================\n",
      "Total params: 2,709,591\n",
      "Trainable params: 2,709,591\n",
      "Non-trainable params: 0\n",
      "_________________________________________________________________\n"
     ]
    }
   ],
   "source": [
    "import tensorflow as tf\n",
    "from tensorflow import keras\n",
    "import numpy as np\n",
    "\n",
    "model=keras.models.Sequential() #먼저 Sequential API를 사용해 네트워크를 model변수에 초기화 한다.\n",
    "model.add(keras.layers.Conv2D(16, (3,3), activation='relu', input_shape=(112,112,3)))\n",
    "model.add(keras.layers.MaxPool2D(2,2))\n",
    "model.add(keras.layers.Conv2D(32, (3,3), activation='relu'))\n",
    "model.add(keras.layers.MaxPooling2D((2,2)))\n",
    "model.add(keras.layers.Flatten())\n",
    "model.add(keras.layers.Dense(125, activation='relu'))\n",
    "model.add(keras.layers.Dense(3, activation='softmax'))\n",
    "\n",
    "# Conv2D 레이어에 이미지 특징 수, 입력 이미지의 형태 등을 넣고 MaxPooling2D를 통해 맥스 풀링 연산을 한다.\n",
    "# Dense 레이어는 분류기에 사용되는 뉴런의 숫자를 입력하고 마지막 Dense 레이어에는 결과에 도출할 클래스 수를 입력한다.\n",
    "# 우리는 가위, 바위, 보 세가지 클래스 이므로, 정수 3을 입력한다.\n",
    "\n",
    "print('Model에 추가된 Layer 개수: ', len(model.layers))\n",
    "\n",
    "model.summary()"
   ]
  },
  {
   "cell_type": "markdown",
   "id": "5ef76b89",
   "metadata": {},
   "source": [
    "#### 학습을 시켜봅시다 "
   ]
  },
  {
   "cell_type": "code",
   "execution_count": 23,
   "id": "3b5649aa",
   "metadata": {},
   "outputs": [
    {
     "name": "stdout",
     "output_type": "stream",
     "text": [
      "Epoch 1/10\n",
      "19/19 [==============================] - 1s 19ms/step - loss: 136.4387 - accuracy: 0.4483\n",
      "Epoch 2/10\n",
      "19/19 [==============================] - 0s 7ms/step - loss: 2.6251 - accuracy: 0.7650\n",
      "Epoch 3/10\n",
      "19/19 [==============================] - 0s 7ms/step - loss: 0.3100 - accuracy: 0.8850\n",
      "Epoch 4/10\n",
      "19/19 [==============================] - 0s 7ms/step - loss: 0.0751 - accuracy: 0.9750\n",
      "Epoch 5/10\n",
      "19/19 [==============================] - 0s 7ms/step - loss: 0.0389 - accuracy: 0.9933\n",
      "Epoch 6/10\n",
      "19/19 [==============================] - 0s 7ms/step - loss: 0.0204 - accuracy: 0.9983\n",
      "Epoch 7/10\n",
      "19/19 [==============================] - 0s 7ms/step - loss: 0.0109 - accuracy: 1.0000\n",
      "Epoch 8/10\n",
      "19/19 [==============================] - 0s 7ms/step - loss: 0.0089 - accuracy: 1.0000\n",
      "Epoch 9/10\n",
      "19/19 [==============================] - 0s 7ms/step - loss: 0.0065 - accuracy: 1.0000\n",
      "Epoch 10/10\n",
      "19/19 [==============================] - 0s 7ms/step - loss: 0.0044 - accuracy: 1.0000\n"
     ]
    },
    {
     "data": {
      "text/plain": [
       "<keras.callbacks.History at 0x7fdef756a700>"
      ]
     },
     "execution_count": 23,
     "metadata": {},
     "output_type": "execute_result"
    }
   ],
   "source": [
    "model.compile(optimizer='adam',\n",
    "             loss='sparse_categorical_crossentropy',\n",
    "             metrics=['accuracy'])\n",
    "\n",
    "model.fit(x_train, y_train, epochs=10)"
   ]
  },
  {
   "cell_type": "markdown",
   "id": "752d711e",
   "metadata": {},
   "source": [
    "#### test"
   ]
  },
  {
   "cell_type": "code",
   "execution_count": 24,
   "id": "338608bf",
   "metadata": {},
   "outputs": [
    {
     "name": "stdout",
     "output_type": "stream",
     "text": [
      "100  images to be resized.\n",
      "100  images resized.\n",
      "100  images to be resized.\n",
      "100  images resized.\n",
      "100  images to be resized.\n",
      "100  images resized.\n",
      "가위 이미지 resize 완료!\n",
      "학습데이터(x_train)의 이미지 개수는 300 입니다.\n",
      "x_test shape: (300, 112, 112, 3)\n",
      "y_test shape: (300,)\n"
     ]
    }
   ],
   "source": [
    "test_path = os.getenv(\"HOME\") + \"/aiffel/EXPLORATIONS/EX_01/test2\"\n",
    "resize_images(test_path + \"/rock\")\n",
    "resize_images(test_path + \"/scissor\")\n",
    "resize_images(test_path + \"/paper\")\n",
    "\n",
    "print(\"가위 이미지 resize 완료!\")\n",
    "(x_test, y_test)=load_data(test_path,300)\n",
    "x_test_norm = x_test/255.0   # 입력은 0~1 사이의 값으로 정규화\n",
    "\n",
    "print(\"x_test shape: {}\".format(x_test.shape))\n",
    "print(\"y_test shape: {}\".format(y_test.shape))"
   ]
  },
  {
   "cell_type": "code",
   "execution_count": 25,
   "id": "fd424f56",
   "metadata": {},
   "outputs": [
    {
     "name": "stdout",
     "output_type": "stream",
     "text": [
      "10/10 - 0s - loss: 18.4787 - accuracy: 0.4400\n",
      "test_loss: 18.478744506835938 \n",
      "test_accuracy: 0.4399999976158142\n"
     ]
    }
   ],
   "source": [
    "test_loss, test_accuracy = model.evaluate(x_test, y_test, verbose=2)\n",
    "print(\"test_loss: {} \".format(test_loss))\n",
    "print(\"test_accuracy: {}\".format(test_accuracy))"
   ]
  },
  {
   "cell_type": "markdown",
   "id": "e235f029",
   "metadata": {},
   "source": [
    "\n",
    "####  standard\n",
    "1. 이미지 분류기 모델이 성공적으로 만들어지고 트레이닝이 정상적으로 수행되었는가? 모델 잘 만들고 트레이닝 시켰는지 yes\n",
    "2. 오버피팅을 극복하기 위한  데이터셋의 다양성, 정규화 등의 시도가 적절하였는가? 데이터셋를 잘 만들었는지 yes\n",
    "3. 분류모델의 test accuracy가 60% 이상 도달하였는가?\n"
   ]
  },
  {
   "cell_type": "markdown",
   "id": "ae18d46a",
   "metadata": {},
   "source": [
    "#### trial and error\n",
    "\n",
    "- 학습데이터 변경: 처음엔_내가 찍은 사진 각100장 총 300장으로 학습 진행/두번째_세사람이 각각 찍은 사진 100장 총300장으로 학습시킴/세번째_네사람이 찍은 사진 200장 총 600장으로 학습시킴 && 학습이미지 해상도 변경 && parameter 변경\n",
    "- Hyper parameter값 변경\n",
    "\n",
    "아쉬운점)\n",
    "제출 직전에 보니 파일이 날라가있었다... 그래서 다시 급하게 만들어 봤는데,\n",
    "1. 학습데이터를 더이상 높이지 않고 accuracy높히는 방법을 찾아볼 것\n",
    "2. parameter값만 변경해서 높혀볼 것\n",
    "\n",
    "\n",
    "두 기준으로 작업한 결과 0.2x 에서 0.4x 까지 test_accuracy가 높아짐\n",
    "그럼에도 기준치인 60%에 도달하진 않았지만 처음 공부해보면서 tensorflow에 대해 전반적으로 익힐 수 있는 시간이었다. "
   ]
  }
 ],
 "metadata": {
  "kernelspec": {
   "display_name": "Python 3 (ipykernel)",
   "language": "python",
   "name": "python3"
  },
  "language_info": {
   "codemirror_mode": {
    "name": "ipython",
    "version": 3
   },
   "file_extension": ".py",
   "mimetype": "text/x-python",
   "name": "python",
   "nbconvert_exporter": "python",
   "pygments_lexer": "ipython3",
   "version": "3.9.7"
  }
 },
 "nbformat": 4,
 "nbformat_minor": 5
}
