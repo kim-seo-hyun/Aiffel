{
 "cells": [
  {
   "cell_type": "markdown",
   "id": "add3ce3f",
   "metadata": {},
   "source": [
    "## EX_06 네이버 영화리뷰 감성분석 \n",
    "\n",
    "### 목표: IMDb나 네이버 영화 리뷰 텍스트에 담긴 이용자의 감성이 긍정적인지 혹은 부정적인지를 분류(Classification) 할 수 있는 딥러닝 모델 만들기\n",
    "\n",
    "- keyword: RNN/ LSTM/ 워드 임베딩(word embedding) 기법/genism 활용/ 1-D CNN/ GlobalMaxPooling1D() layer/ FFN(FeedForward Network) layer/ Transformer layer/ Word2Vec/ 데이터 분석및 가공, 시각화에 대해 더 깊히 공부하기\n",
    "\n",
    "#### lubric: \n",
    "1. 3가지 이상의 모델을 활용하여 Text Classification 태스크를 성공적으로 구현하였다.\n",
    "2. gensim을 유사단어 찾기를 활용하여 자체학습된 임베딩과 사전학습된 임베딩 레이어를 분석하였다.\n",
    "3. 한국어 Word2Vec을 활용하여 네이버 영화리뷰 데이터 감성분석 정확도를 85% 이상 달성하였다.\n",
    "\n",
    "#### sequnce:\n",
    "1. data) 데이터 준비와 확인> load_data 구성> 데이터 분석 및 가공\n",
    "2. model) validation set 구성> 모델 구성> 모델 훈련> Loss, Accuracy 그래프 시각화\n",
    "3. 학습된 Embedding 레이어 분석\n",
    "4. 한국어 Word2Vec 임베딩 활용하여 성능 개선\n",
    "\n",
    "#### trial and error"
   ]
  },
  {
   "cell_type": "markdown",
   "id": "891fdf47",
   "metadata": {},
   "source": [
    "## 1. 데이터 준비와 확인"
   ]
  },
  {
   "cell_type": "code",
   "execution_count": 1,
   "id": "593d5963",
   "metadata": {},
   "outputs": [],
   "source": [
    "# 필요한 라이브러리 import\n",
    "import glob\n",
    "import os\n",
    "import re\n",
    "import numpy as np\n",
    "import pandas as pd\n",
    "\n",
    "from collections import Counter\n",
    "\n",
    "import urllib.request\n",
    "from konlpy.tag import Okt, Mecab\n",
    "\n",
    "import tensorflow as tf\n",
    "from tensorflow import keras\n",
    "from tensorflow.keras.preprocessing.text import Tokenizer\n",
    "from tensorflow.keras.preprocessing.sequence import pad_sequences\n",
    "from tensorflow.keras.initializers import Constant\n",
    "\n",
    "from gensim.models import KeyedVectors\n",
    "import gensim\n",
    "from sklearn.model_selection import train_test_split\n",
    "\n",
    "from keras.layers import Bidirectional, LSTM, GRU, Dense, Conv1D\n",
    "from keras.layers import Embedding, MaxPooling1D, GlobalMaxPooling1D\n",
    "from keras.layers import Dropout\n",
    "from keras.callbacks import EarlyStopping\n",
    "\n",
    "import seaborn as sns\n",
    "import matplotlib.pyplot as plt\n",
    "%matplotlib inline\n",
    "\n",
    "# 훈련 데이터, 테스트 데이터 준비\n",
    "train_data = pd.read_table('~/aiffel/EXPLORATIONS/EX_06/sentiment_classification/data/ratings_train.txt')\n",
    "test_data = pd.read_table('~/aiffel/EXPLORATIONS/EX_06/sentiment_classification/data/ratings_test.txt')"
   ]
  },
  {
   "cell_type": "code",
   "execution_count": 34,
   "id": "859c1e53",
   "metadata": {},
   "outputs": [
    {
     "data": {
      "text/html": [
       "<div>\n",
       "<style scoped>\n",
       "    .dataframe tbody tr th:only-of-type {\n",
       "        vertical-align: middle;\n",
       "    }\n",
       "\n",
       "    .dataframe tbody tr th {\n",
       "        vertical-align: top;\n",
       "    }\n",
       "\n",
       "    .dataframe thead th {\n",
       "        text-align: right;\n",
       "    }\n",
       "</style>\n",
       "<table border=\"1\" class=\"dataframe\">\n",
       "  <thead>\n",
       "    <tr style=\"text-align: right;\">\n",
       "      <th></th>\n",
       "      <th>id</th>\n",
       "      <th>document</th>\n",
       "      <th>label</th>\n",
       "    </tr>\n",
       "  </thead>\n",
       "  <tbody>\n",
       "    <tr>\n",
       "      <th>0</th>\n",
       "      <td>9976970</td>\n",
       "      <td>아 더빙.. 진짜 짜증나네요 목소리</td>\n",
       "      <td>0</td>\n",
       "    </tr>\n",
       "    <tr>\n",
       "      <th>1</th>\n",
       "      <td>3819312</td>\n",
       "      <td>흠...포스터보고 초딩영화줄....오버연기조차 가볍지 않구나</td>\n",
       "      <td>1</td>\n",
       "    </tr>\n",
       "    <tr>\n",
       "      <th>2</th>\n",
       "      <td>10265843</td>\n",
       "      <td>너무재밓었다그래서보는것을추천한다</td>\n",
       "      <td>0</td>\n",
       "    </tr>\n",
       "    <tr>\n",
       "      <th>3</th>\n",
       "      <td>9045019</td>\n",
       "      <td>교도소 이야기구먼 ..솔직히 재미는 없다..평점 조정</td>\n",
       "      <td>0</td>\n",
       "    </tr>\n",
       "    <tr>\n",
       "      <th>4</th>\n",
       "      <td>6483659</td>\n",
       "      <td>사이몬페그의 익살스런 연기가 돋보였던 영화!스파이더맨에서 늙어보이기만 했던 커스틴 ...</td>\n",
       "      <td>1</td>\n",
       "    </tr>\n",
       "  </tbody>\n",
       "</table>\n",
       "</div>"
      ],
      "text/plain": [
       "         id                                           document  label\n",
       "0   9976970                                아 더빙.. 진짜 짜증나네요 목소리      0\n",
       "1   3819312                  흠...포스터보고 초딩영화줄....오버연기조차 가볍지 않구나      1\n",
       "2  10265843                                  너무재밓었다그래서보는것을추천한다      0\n",
       "3   9045019                      교도소 이야기구먼 ..솔직히 재미는 없다..평점 조정      0\n",
       "4   6483659  사이몬페그의 익살스런 연기가 돋보였던 영화!스파이더맨에서 늙어보이기만 했던 커스틴 ...      1"
      ]
     },
     "execution_count": 34,
     "metadata": {},
     "output_type": "execute_result"
    }
   ],
   "source": [
    "# 훈련 데이터 살펴보기\n",
    "train_data[:5]"
   ]
  },
  {
   "cell_type": "code",
   "execution_count": 35,
   "id": "b592c734",
   "metadata": {},
   "outputs": [
    {
     "data": {
      "text/html": [
       "<div>\n",
       "<style scoped>\n",
       "    .dataframe tbody tr th:only-of-type {\n",
       "        vertical-align: middle;\n",
       "    }\n",
       "\n",
       "    .dataframe tbody tr th {\n",
       "        vertical-align: top;\n",
       "    }\n",
       "\n",
       "    .dataframe thead th {\n",
       "        text-align: right;\n",
       "    }\n",
       "</style>\n",
       "<table border=\"1\" class=\"dataframe\">\n",
       "  <thead>\n",
       "    <tr style=\"text-align: right;\">\n",
       "      <th></th>\n",
       "      <th>id</th>\n",
       "      <th>document</th>\n",
       "      <th>label</th>\n",
       "    </tr>\n",
       "  </thead>\n",
       "  <tbody>\n",
       "    <tr>\n",
       "      <th>0</th>\n",
       "      <td>6270596</td>\n",
       "      <td>굳 ㅋ</td>\n",
       "      <td>1</td>\n",
       "    </tr>\n",
       "    <tr>\n",
       "      <th>1</th>\n",
       "      <td>9274899</td>\n",
       "      <td>GDNTOPCLASSINTHECLUB</td>\n",
       "      <td>0</td>\n",
       "    </tr>\n",
       "    <tr>\n",
       "      <th>2</th>\n",
       "      <td>8544678</td>\n",
       "      <td>뭐야 이 평점들은.... 나쁘진 않지만 10점 짜리는 더더욱 아니잖아</td>\n",
       "      <td>0</td>\n",
       "    </tr>\n",
       "    <tr>\n",
       "      <th>3</th>\n",
       "      <td>6825595</td>\n",
       "      <td>지루하지는 않은데 완전 막장임... 돈주고 보기에는....</td>\n",
       "      <td>0</td>\n",
       "    </tr>\n",
       "    <tr>\n",
       "      <th>4</th>\n",
       "      <td>6723715</td>\n",
       "      <td>3D만 아니었어도 별 다섯 개 줬을텐데.. 왜 3D로 나와서 제 심기를 불편하게 하죠??</td>\n",
       "      <td>0</td>\n",
       "    </tr>\n",
       "  </tbody>\n",
       "</table>\n",
       "</div>"
      ],
      "text/plain": [
       "        id                                           document  label\n",
       "0  6270596                                                굳 ㅋ      1\n",
       "1  9274899                               GDNTOPCLASSINTHECLUB      0\n",
       "2  8544678             뭐야 이 평점들은.... 나쁘진 않지만 10점 짜리는 더더욱 아니잖아      0\n",
       "3  6825595                   지루하지는 않은데 완전 막장임... 돈주고 보기에는....      0\n",
       "4  6723715  3D만 아니었어도 별 다섯 개 줬을텐데.. 왜 3D로 나와서 제 심기를 불편하게 하죠??      0"
      ]
     },
     "execution_count": 35,
     "metadata": {},
     "output_type": "execute_result"
    }
   ],
   "source": [
    "# 테스트 데이터 살펴보기(위와 같은 의미, 다른 방식, 위엔 trainset 이건 testset)\n",
    "test_data.head(5)"
   ]
  },
  {
   "cell_type": "code",
   "execution_count": 3,
   "id": "f9ef1499",
   "metadata": {},
   "outputs": [
    {
     "name": "stdout",
     "output_type": "stream",
     "text": [
      "train data: 150000, test data: 50000\n"
     ]
    }
   ],
   "source": [
    "# data의 갯수 확인\n",
    "print(\"train data: {}, test data: {}\".format(len(train_data), len(test_data)))"
   ]
  },
  {
   "cell_type": "markdown",
   "id": "6ffb7d14",
   "metadata": {},
   "source": [
    "## > data_loader 구성"
   ]
  },
  {
   "cell_type": "markdown",
   "id": "e2f79325",
   "metadata": {},
   "source": [
    "nsmc 데이터셋은 전혀 가공되지 않은 텍스트 파일. data_loader 안에서는 다음을 수행.\n",
    "\n",
    "1. 데이터의 중복 제거\n",
    "2. NaN 결측치 제거\n",
    "3. 불용어(Stopwords) 제거\n",
    "4. 한국어 토크나이저로 토큰화\n",
    "5. 사전word_to_index 구성\n",
    "6. 텍스트 스트링을 사전 인덱스 스트링으로 변환\n",
    "7. X_train, y_train, X_test, y_test, word_to_index 리턴"
   ]
  },
  {
   "cell_type": "code",
   "execution_count": 4,
   "id": "076363cb",
   "metadata": {},
   "outputs": [
    {
     "name": "stderr",
     "output_type": "stream",
     "text": [
      "/tmp/ipykernel_13/3733813125.py:8: FutureWarning: The default value of regex will change from True to False in a future version.\n",
      "  train_data['document'] = train_data['document'].str.replace(\"[^ㄱ-ㅎㅏ-ㅣ가-힣 ]\",\"\") #한글과 공백을 제외하고 모두 제거\n",
      "/tmp/ipykernel_13/3733813125.py:14: FutureWarning: The default value of regex will change from True to False in a future version.\n",
      "  test_data['document'] = test_data['document'].str.replace(\"[^ㄱ-ㅎㅏ-ㅣ가-힣 ]\",\"\") #한글과 공백을 제외하고 모두 제거\n"
     ]
    },
    {
     "name": "stdout",
     "output_type": "stream",
     "text": [
      "train data 개수: 145791, test data 개수: 48995\n"
     ]
    }
   ],
   "source": [
    "from konlpy.tag import Mecab\n",
    "import numpy as np\n",
    "from collections import Counter\n",
    "\n",
    "def load_data(train_data, test_data, num_words=10000):\n",
    "    # train data 전처리\n",
    "    train_data.drop_duplicates(subset=['document'], inplace=True) #document 열의 중복 제거\n",
    "    train_data['document'] = train_data['document'].str.replace(\"[^ㄱ-ㅎㅏ-ㅣ가-힣 ]\",\"\") #한글과 공백을 제외하고 모두 제거\n",
    "    train_data['document'].replace('', np.nan, inplace=True) # 공백은 Nan 값으로 변경\n",
    "    train_data = train_data.dropna(how = 'any') # Nan값 결측치 제거\n",
    "    \n",
    "    # test data 전처리\n",
    "    test_data.drop_duplicates(subset = ['document'], inplace=True) # document 열의 중복 제거\n",
    "    test_data['document'] = test_data['document'].str.replace(\"[^ㄱ-ㅎㅏ-ㅣ가-힣 ]\",\"\") #한글과 공백을 제외하고 모두 제거\n",
    "    test_data['document'].replace('', np.nan, inplace=True) # 공백은 Nan 값으로 변경\n",
    "    test_data = test_data.dropna(how='any') # Nan값 제거\n",
    "\n",
    "    tokenizer = Mecab()\n",
    "    stopwords = ['의','가','이','은','들','는','좀','잘','걍','과','도','를','으로','자','에','와','한','하다']\n",
    "    # stopwords: 불용어\n",
    "\n",
    "    X_train = []\n",
    "    for sentence in train_data['document']:\n",
    "        temp_X = tokenizer.morphs(sentence) # 토큰화\n",
    "        temp_X = [word for word in temp_X if not word in stopwords] # 불용어 삭제\n",
    "        X_train.append(temp_X)\n",
    "\n",
    "    X_test = []\n",
    "    for sentence in test_data['document']:\n",
    "        temp_X = tokenizer.morphs(sentence) #토큰화\n",
    "        temp_X = [word for word in temp_X if not word in stopwords] #불용어 삭제\n",
    "        X_test.append(temp_X)\n",
    "\n",
    "    \n",
    "    #단어사전\n",
    "    words = np.concatenate(X_train).tolist()\n",
    "    counter = Counter(words)\n",
    "    counter = counter.most_common(10000-4)\n",
    "    vocab = ['', '', '', ''] + [key for key, _ in counter]\n",
    "    word_to_index = {word:index for index, word in enumerate(vocab)} # 5. 사전word_to_index 구성\n",
    "        \n",
    "    def wordlist_to_indexlist(wordlist):   # 6. 텍스트 스트링을 사전 인덱스 스트링으로 변환\n",
    "        return [word_to_index[word] if word in word_to_index else word_to_index[''] for word in wordlist]\n",
    "        \n",
    "    X_train = list(map(wordlist_to_indexlist, X_train))\n",
    "    X_test = list(map(wordlist_to_indexlist, X_test))\n",
    "        \n",
    "    # 7. X_train, y_train, X_test, y_test, word_to_index 리턴\n",
    "    return X_train, np.array(list(train_data['label'])), X_test, np.array(list(test_data['label'])), word_to_index\n",
    "    \n",
    "X_train, y_train, X_test, y_test, word_to_index = load_data(train_data, test_data)\n",
    "print(\"train data 개수: {}, test data 개수: {}\".format(len(X_train), len(X_test)))"
   ]
  },
  {
   "cell_type": "code",
   "execution_count": 5,
   "id": "5c89dad8",
   "metadata": {},
   "outputs": [],
   "source": [
    "# 인덱스:단어(키:값) 형태의 딕셔너리 생성\n",
    "index_to_word = {index:word for word, index in word_to_index.items()}"
   ]
  },
  {
   "cell_type": "code",
   "execution_count": 6,
   "id": "6edb14c0",
   "metadata": {},
   "outputs": [],
   "source": [
    "word_to_index[\"<PAD>\"] = 0  # 패딩\n",
    "word_to_index[\"<BOS>\"] = 1  # 모든 문장의 시작\n",
    "word_to_index[\"<UNK>\"] = 2  # Unknown을 의미"
   ]
  },
  {
   "cell_type": "code",
   "execution_count": 7,
   "id": "cb50a77c",
   "metadata": {},
   "outputs": [
    {
     "name": "stdout",
     "output_type": "stream",
     "text": [
      "[27, 67, 895, 33, 214, 15, 28, 699]\n",
      "더 빙 진짜 짜증 나 네요 목소리\n",
      "Label:  0\n",
      "[977, 481, 491, 636, 4, 110, 1554, 48, 866, 949, 11, 38, 364]\n",
      "포스터 보고 초딩 영화 줄 오버 연기 조차 가볍 지 않 구나\n",
      "Label:  1\n",
      "[19, 192, 3]\n",
      "재 \n",
      "Label:  0\n",
      "[8035, 143, 4134, 277, 85, 13, 5, 52, 3326]\n",
      "이야기 구먼 솔직히 재미 없 다 평점 조정\n",
      "Label:  0\n",
      "[3, 8488, 1051, 48, 2702, 54, 4, 2625, 34, 1118, 29, 326, 36, 17, 35, 54, 3, 3, 393, 2850, 1677, 5]\n",
      "익살 스런 연기 돋보였 던 영화 스파이더맨 에서 늙 어 보이 기 만 했 던   너무나 이뻐 보였 다\n",
      "Label:  1\n",
      "[627, 3, 3, 425, 171, 1464, 661, 1592, 665, 46, 3, 4, 61, 2167, 118, 718]\n",
      "  세 부터 초등 학교 학년 생 인  영화 ㅋㅋㅋ 별반 개 아까움\n",
      "Label:  0\n",
      "[237, 351, 8, 354, 1909, 51, 11, 780, 5]\n",
      "긴장감 을 제대로 살려 내 지 못했 다\n",
      "Label:  0\n",
      "[232, 1344, 132, 5, 392, 705, 3, 3, 48, 1434, 269, 93, 233, 23, 882, 24, 321, 608, 501, 475, 546, 5, 3165, 8489, 17, 1386, 1386, 65, 282, 13, 5, 48, 95, 7, 70, 17, 3, 37]\n",
      "반개 아깝 다 욕 나온다   연기 생활 몇 년 인지 정말 발 로 해도 그것 보단 낫 겟 다 납치 감금 만 반복 반복 드라마 가족 없 다 연기 못 하 사람 만  네\n",
      "Label:  0\n",
      "[117, 13, 18, 85, 12, 269, 22, 43, 4]\n",
      "없 는데 재미 있 몇 안 되 영화\n",
      "Label:  1\n",
      "[57, 612, 52, 225, 706, 531, 81, 17, 478, 1403, 596, 688, 74, 17, 19, 3, 12, 15]\n",
      "케 평점 낮 건데 꽤 볼 만 한데 헐리우드 식 화려 함 만 너무  있 나\n",
      "Label:  1\n"
     ]
    }
   ],
   "source": [
    "# 문장 1개를 활용할 딕셔너리와 함께 주면 단어 인덱스 리스트 벡터로 변환해 주는 함수 \n",
    "# 모든 문장은 <BOS>로 시작하도록 설정 \n",
    "def get_encoded_sentence(sentence, word_to_index):\n",
    "    return [word_to_index['<BOS>']]+[word_to_index[word] if word in word_to_index else word_to_index['<UNK>'] for word in sentence.split()]\n",
    "\n",
    "# 여러 개의 문장 리스트를 한꺼번에 단어 인덱스 리스트 벡터로 encode해 주는 함수\n",
    "def get_encoded_sentences(sentences, word_to_index):\n",
    "    return [get_encoded_sentence(sentence, word_to_index) for sentence in sentences]\n",
    "\n",
    "# 숫자 벡터로 encode된 문장을 원래대로 decode하는 함수\n",
    "def get_decoded_sentence(encoded_sentence, index_to_word):\n",
    "    return ' '.join(index_to_word[index] if index in index_to_word else '<UNK>' for index in encoded_sentence[1:])  #[1:]를 통해 <BOS>를 제외\n",
    "\n",
    "# 여러 개의 숫자 벡터로 encode된 문장을 한꺼번에 원래대로 decode해 주는 함수\n",
    "def get_decoded_sentences(encoded_sentences, index_to_word):\n",
    "    return [get_decoded_sentence(encoded_sentence, index_to_word) for encoded_sentence in encoded_sentences]\n",
    "\n",
    "for i in range(10):\n",
    "    print(X_train[i])\n",
    "    print(get_decoded_sentence(X_train[i], index_to_word))\n",
    "    print('Label: ', y_train[i])"
   ]
  },
  {
   "cell_type": "markdown",
   "id": "afade49e",
   "metadata": {},
   "source": [
    "## > 데이터 분석 및 가공\n",
    "\n",
    "1. 데이터셋 내 문장 길이 분포\n",
    "2. 적절한 최대 문장 길이 지정\n",
    "3. keras.preprocessing.sequence.pad_sequences 을 활용한 패딩 추가"
   ]
  },
  {
   "cell_type": "code",
   "execution_count": 8,
   "id": "bd4ef6ad",
   "metadata": {},
   "outputs": [
    {
     "name": "stdout",
     "output_type": "stream",
     "text": [
      "문장길이 평균 :  13.757179674103888\n",
      "문장길이 최대 :  83\n",
      "문장길이 표준편차 :  11.462771769216866\n",
      "pad_sequences maxlen :  36\n",
      "전체 문장의 93.38145451931864% 정도가 maxlen 설정값 이내에 포함되어 있다 \n"
     ]
    }
   ],
   "source": [
    "total_data_text = list(X_train) + list(X_test)\n",
    "# 텍스트 데이터 문장 길이의 리스트 생성\n",
    "num_tokens = [len(tokens) for tokens in total_data_text]\n",
    "num_tokens = np.array(num_tokens)\n",
    "# 문장 길이의 평균값, 최대값, 표준편차 각각 계산\n",
    "print('문장길이 평균 : ', np.mean(num_tokens))\n",
    "print('문장길이 최대 : ', np.max(num_tokens))\n",
    "print('문장길이 표준편차 : ', np.std(num_tokens))\n",
    "\n",
    "# 예를들어, 최대 길이를 (평균 + 2*표준편차)로 한다면,  \n",
    "max_tokens = np.mean(num_tokens) + 2 * np.std(num_tokens)\n",
    "maxlen = int(max_tokens)\n",
    "print('pad_sequences maxlen : ', maxlen)\n",
    "print('전체 문장의 {}% 정도가 maxlen 설정값 이내에 포함되어 있다 '.format(np.sum(num_tokens < max_tokens) / len(num_tokens)*100))"
   ]
  },
  {
   "cell_type": "code",
   "execution_count": 9,
   "id": "553b6226",
   "metadata": {},
   "outputs": [
    {
     "name": "stdout",
     "output_type": "stream",
     "text": [
      "(145791, 36)\n",
      "(48995, 36)\n"
     ]
    }
   ],
   "source": [
    "# padding을 통해 문장의 길이를 맞춰준다\n",
    "\n",
    "x_train = pad_sequences(X_train,\n",
    "                        value=word_to_index[\"<PAD>\"],\n",
    "                        padding='post', # 혹은 'pre'\n",
    "                        maxlen=maxlen)\n",
    "\n",
    "x_test = pad_sequences(X_test,\n",
    "                       value=word_to_index[\"<PAD>\"],\n",
    "                       padding='post', # 혹은 'pre'\n",
    "                       maxlen=maxlen)\n",
    "\n",
    "print(x_train.shape)\n",
    "print(x_test.shape)"
   ]
  },
  {
   "cell_type": "markdown",
   "id": "4c3bfaa9",
   "metadata": {},
   "source": [
    "## 2. model) validation set 구성> 모델> 훈련> 시각화"
   ]
  },
  {
   "cell_type": "code",
   "execution_count": 10,
   "id": "25432076",
   "metadata": {},
   "outputs": [
    {
     "name": "stdout",
     "output_type": "stream",
     "text": [
      "(40000, 36)\n",
      "(40000,)\n",
      "(105791, 36)\n",
      "(105791,)\n"
     ]
    }
   ],
   "source": [
    "# 훈련 데이터 앞쪽 40000개 까지 validation set으로 사용\n",
    "x_val = x_train[:40000]   \n",
    "y_val = y_train[:40000]\n",
    "\n",
    "# validation set을 제외한 나머지는 모두 훈련 데이터로 사용\n",
    "partial_x_train = x_train[40000:]  \n",
    "partial_y_train = y_train[40000:]\n",
    "\n",
    "print(x_val.shape)\n",
    "print(y_val.shape)\n",
    "print(partial_x_train.shape)\n",
    "print(partial_y_train.shape)"
   ]
  },
  {
   "cell_type": "markdown",
   "id": "ffafca78",
   "metadata": {},
   "source": [
    "** 만들 수 있는 모델의 종류 **\n",
    "\n",
    "RNN인 LSTM /1-D CNN/ GlobalMaxPooling1D() / \n",
    "1-D CNN과 RNN 레이어 mix/ FFN(FeedForward Network) / Transformer 등등"
   ]
  },
  {
   "cell_type": "markdown",
   "id": "6d5da735",
   "metadata": {},
   "source": [
    "# 1. LSTM"
   ]
  },
  {
   "cell_type": "code",
   "execution_count": 12,
   "id": "9bdedd95",
   "metadata": {},
   "outputs": [
    {
     "name": "stdout",
     "output_type": "stream",
     "text": [
      "Model: \"sequential\"\n",
      "_________________________________________________________________\n",
      "Layer (type)                 Output Shape              Param #   \n",
      "=================================================================\n",
      "embedding (Embedding)        (None, None, 16)          160000    \n",
      "_________________________________________________________________\n",
      "lstm (LSTM)                  (None, 32)                6272      \n",
      "_________________________________________________________________\n",
      "dense (Dense)                (None, 16)                528       \n",
      "_________________________________________________________________\n",
      "dense_1 (Dense)              (None, 1)                 17        \n",
      "=================================================================\n",
      "Total params: 166,817\n",
      "Trainable params: 166,817\n",
      "Non-trainable params: 0\n",
      "_________________________________________________________________\n"
     ]
    }
   ],
   "source": [
    "# 가장 널리 쓰이는 RNN인 LSTM 레이어를 사용 \n",
    "\n",
    "vocab_size = 10000  # 어휘 사전의 크기\n",
    "word_vector_dim = 16  # 단어 하나를 표현하는 임베딩 벡터의 차원수 \n",
    "\n",
    "model = tf.keras.Sequential()\n",
    "model.add(tf.keras.layers.Embedding(vocab_size, word_vector_dim, input_shape=(None,)))\n",
    "model.add(tf.keras.layers.LSTM(32))    #LSTM state 벡터의 차원수\n",
    "model.add(tf.keras.layers.Dense(16, activation='relu'))\n",
    "model.add(tf.keras.layers.Dense(1, activation='sigmoid'))  # 최종 출력은 긍정/부정을 나타내는 1dim 입니다.\n",
    "\n",
    "model.summary()"
   ]
  },
  {
   "cell_type": "code",
   "execution_count": 13,
   "id": "55eb2f32",
   "metadata": {},
   "outputs": [
    {
     "name": "stdout",
     "output_type": "stream",
     "text": [
      "Epoch 1/5\n",
      "207/207 [==============================] - 5s 8ms/step - loss: 0.5323 - accuracy: 0.6953 - val_loss: 0.3739 - val_accuracy: 0.8310\n",
      "Epoch 2/5\n",
      "207/207 [==============================] - 1s 6ms/step - loss: 0.3553 - accuracy: 0.8458 - val_loss: 0.3668 - val_accuracy: 0.8387\n",
      "Epoch 3/5\n",
      "207/207 [==============================] - 1s 6ms/step - loss: 0.3323 - accuracy: 0.8574 - val_loss: 0.3609 - val_accuracy: 0.8396\n",
      "Epoch 4/5\n",
      "207/207 [==============================] - 1s 6ms/step - loss: 0.3183 - accuracy: 0.8632 - val_loss: 0.3648 - val_accuracy: 0.8405\n",
      "Epoch 5/5\n",
      "207/207 [==============================] - 1s 6ms/step - loss: 0.3082 - accuracy: 0.8675 - val_loss: 0.3633 - val_accuracy: 0.8395\n"
     ]
    }
   ],
   "source": [
    "model.compile(optimizer='adam',\n",
    "             loss='binary_crossentropy',  #loss hyper parameter에 주의\n",
    "             metrics=['accuracy'])\n",
    "\n",
    "epochs=5\n",
    "\n",
    "history = model.fit(partial_x_train,\n",
    "                   partial_y_train,\n",
    "                   epochs=epochs,\n",
    "                   batch_size=512,   #배치사이즈? \n",
    "                   validation_data=(x_val, y_val),\n",
    "                   verbose=1)"
   ]
  },
  {
   "cell_type": "code",
   "execution_count": 14,
   "id": "caaa6aba",
   "metadata": {},
   "outputs": [
    {
     "name": "stdout",
     "output_type": "stream",
     "text": [
      "1532/1532 - 3s - loss: 0.3691 - accuracy: 0.8350\n",
      "[0.36909019947052, 0.8350443840026855]\n"
     ]
    }
   ],
   "source": [
    "# LSTM 모델 평가\n",
    "\n",
    "results = model.evaluate(x_test, y_test, verbose=2) # verbose 공부\n",
    "print(results)"
   ]
  },
  {
   "cell_type": "code",
   "execution_count": 15,
   "id": "da5db841",
   "metadata": {},
   "outputs": [
    {
     "data": {
      "image/png": "[encoded data removed]",
      "text/plain": [
       "<Figure size 576x288 with 2 Axes>"
      ]
     },
     "metadata": {
      "needs_background": "light"
     },
     "output_type": "display_data"
    }
   ],
   "source": [
    "# Accuracy, Loss 그래프 시각화\n",
    "\n",
    "history_dict = history.history\n",
    "acc = history_dict['accuracy']\n",
    "val_acc = history_dict['val_accuracy']\n",
    "loss = history_dict['loss']\n",
    "val_loss = history_dict['val_loss']\n",
    "\n",
    "epochs = range(1, len(acc) + 1)\n",
    "\n",
    "plt.figure(figsize=(8, 4))\n",
    "plt.subplot(1, 2, 1)\n",
    "plt.plot(epochs, acc, label='Accuracy')\n",
    "plt.plot(epochs, val_acc, 'red', label='Val_Accuracy')\n",
    "plt.legend(loc='lower right')\n",
    "plt.title('Accuracy')\n",
    "plt.xlabel('Epochs')\n",
    "plt.ylabel('Accuracy')\n",
    "\n",
    "\n",
    "plt.subplot(1, 2, 2)\n",
    "plt.plot(epochs, loss, label='Loss')\n",
    "plt.plot(epochs, val_loss, 'red', label='Val_Loss')\n",
    "plt.legend(loc='upper right')\n",
    "plt.title('Loss')\n",
    "plt.xlabel('Epochs')\n",
    "plt.ylabel('Loss')\n",
    "plt.show()"
   ]
  },
  {
   "cell_type": "markdown",
   "id": "99049152",
   "metadata": {},
   "source": [
    "# 2. CNN"
   ]
  },
  {
   "cell_type": "code",
   "execution_count": 159,
   "id": "9d401f27",
   "metadata": {},
   "outputs": [
    {
     "name": "stdout",
     "output_type": "stream",
     "text": [
      "Model: \"sequential_5\"\n",
      "_________________________________________________________________\n",
      "Layer (type)                 Output Shape              Param #   \n",
      "=================================================================\n",
      "embedding_5 (Embedding)      (None, None, 16)          160000    \n",
      "_________________________________________________________________\n",
      "conv1d_2 (Conv1D)            (None, None, 32)          1568      \n",
      "_________________________________________________________________\n",
      "max_pooling1d_1 (MaxPooling1 (None, None, 32)          0         \n",
      "_________________________________________________________________\n",
      "conv1d_3 (Conv1D)            (None, None, 16)          1552      \n",
      "_________________________________________________________________\n",
      "global_max_pooling1d_2 (Glob (None, 16)                0         \n",
      "_________________________________________________________________\n",
      "dense_10 (Dense)             (None, 8)                 136       \n",
      "_________________________________________________________________\n",
      "dense_11 (Dense)             (None, 1)                 9         \n",
      "=================================================================\n",
      "Total params: 163,265\n",
      "Trainable params: 163,265\n",
      "Non-trainable params: 0\n",
      "_________________________________________________________________\n"
     ]
    }
   ],
   "source": [
    "model = keras.Sequential()\n",
    "model.add(keras.layers.Embedding(vocab_size, word_vector_dim, input_shape=(None,)))\n",
    "model.add(keras.layers.Conv1D(32, 3, activation='relu'))\n",
    "model.add(keras.layers.MaxPooling1D(5))\n",
    "model.add(keras.layers.Conv1D(16, 3, activation='relu'))\n",
    "model.add(keras.layers.GlobalMaxPooling1D())\n",
    "model.add(keras.layers.Dense(8, activation='relu'))\n",
    "model.add(keras.layers.Dense(1, activation='sigmoid'))  # 최종 출력은 긍정/부정을 나타내는 1dim\n",
    "\n",
    "model.summary()"
   ]
  },
  {
   "cell_type": "code",
   "execution_count": 160,
   "id": "b3411b9b",
   "metadata": {},
   "outputs": [
    {
     "name": "stdout",
     "output_type": "stream",
     "text": [
      "Epoch 1/5\n",
      "207/207 [==============================] - 2s 7ms/step - loss: 0.4976 - accuracy: 0.7596 - val_loss: 0.3754 - val_accuracy: 0.8331\n",
      "Epoch 2/5\n",
      "207/207 [==============================] - 1s 6ms/step - loss: 0.3402 - accuracy: 0.8531 - val_loss: 0.3578 - val_accuracy: 0.8424\n",
      "Epoch 3/5\n",
      "207/207 [==============================] - 1s 6ms/step - loss: 0.3045 - accuracy: 0.8723 - val_loss: 0.3590 - val_accuracy: 0.8439\n",
      "Epoch 4/5\n",
      "207/207 [==============================] - 1s 6ms/step - loss: 0.2759 - accuracy: 0.8862 - val_loss: 0.3695 - val_accuracy: 0.8418\n",
      "Epoch 5/5\n",
      "207/207 [==============================] - 1s 6ms/step - loss: 0.2462 - accuracy: 0.9025 - val_loss: 0.3836 - val_accuracy: 0.8422\n"
     ]
    }
   ],
   "source": [
    "model.compile(optimizer='adam',\n",
    "             loss='binary_crossentropy',\n",
    "             metrics=['accuracy'])\n",
    "\n",
    "epochs=5\n",
    "\n",
    "history = model.fit(partial_x_train,\n",
    "                   partial_y_train,\n",
    "                   epochs=epochs,\n",
    "                   batch_size=512,   #배치사이즈? \n",
    "                   validation_data=(x_val, y_val),\n",
    "                   verbose=1)"
   ]
  },
  {
   "cell_type": "code",
   "execution_count": 161,
   "id": "036a3db9",
   "metadata": {},
   "outputs": [
    {
     "name": "stdout",
     "output_type": "stream",
     "text": [
      "1532/1532 - 3s - loss: 0.3894 - accuracy: 0.8387\n",
      "[0.38944071531295776, 0.8387182354927063]\n"
     ]
    }
   ],
   "source": [
    "# CNN모델 평가\n",
    "\n",
    "results = model.evaluate(x_test, y_test, verbose=2) # verbose 공부\n",
    "print(results)"
   ]
  },
  {
   "cell_type": "code",
   "execution_count": 162,
   "id": "221968b2",
   "metadata": {},
   "outputs": [
    {
     "data": {
      "image/png": "[encoded data removed]",
      "text/plain": [
       "<Figure size 576x288 with 2 Axes>"
      ]
     },
     "metadata": {
      "needs_background": "light"
     },
     "output_type": "display_data"
    }
   ],
   "source": [
    "# Accuracy, Loss 그래프 시각화\n",
    "\n",
    "history_dict = history.history\n",
    "acc = history_dict['accuracy']\n",
    "val_acc = history_dict['val_accuracy']\n",
    "loss = history_dict['loss']\n",
    "val_loss = history_dict['val_loss']\n",
    "\n",
    "epochs = range(1, len(acc) + 1)\n",
    "\n",
    "plt.figure(figsize=(8, 4))\n",
    "plt.subplot(1, 2, 1)\n",
    "plt.plot(epochs, acc, label='Accuracy')\n",
    "plt.plot(epochs, val_acc, 'red', label='Val_Accuracy')\n",
    "plt.legend(loc='lower right')\n",
    "plt.title('Accuracy')\n",
    "plt.xlabel('Epochs')\n",
    "plt.ylabel('Accuracy')\n",
    "\n",
    "\n",
    "plt.subplot(1, 2, 2)\n",
    "plt.plot(epochs, loss, label='Loss')\n",
    "plt.plot(epochs, val_loss, 'red', label='Val_Loss')\n",
    "plt.legend(loc='upper right')\n",
    "plt.title('Loss')\n",
    "plt.xlabel('Epochs')\n",
    "plt.ylabel('Loss')\n",
    "plt.show()"
   ]
  },
  {
   "cell_type": "markdown",
   "id": "3c7b380f",
   "metadata": {},
   "source": [
    "# 3. GlobalMaxPooling1D "
   ]
  },
  {
   "cell_type": "code",
   "execution_count": 163,
   "id": "7a5d4244",
   "metadata": {},
   "outputs": [
    {
     "name": "stdout",
     "output_type": "stream",
     "text": [
      "Model: \"sequential_6\"\n",
      "_________________________________________________________________\n",
      "Layer (type)                 Output Shape              Param #   \n",
      "=================================================================\n",
      "embedding_6 (Embedding)      (None, None, 16)          160000    \n",
      "_________________________________________________________________\n",
      "global_max_pooling1d_3 (Glob (None, 16)                0         \n",
      "_________________________________________________________________\n",
      "dense_12 (Dense)             (None, 8)                 136       \n",
      "_________________________________________________________________\n",
      "dense_13 (Dense)             (None, 1)                 9         \n",
      "=================================================================\n",
      "Total params: 160,145\n",
      "Trainable params: 160,145\n",
      "Non-trainable params: 0\n",
      "_________________________________________________________________\n"
     ]
    }
   ],
   "source": [
    "model = keras.Sequential()\n",
    "model.add(keras.layers.Embedding(vocab_size, word_vector_dim, input_shape=(None,)))\n",
    "model.add(keras.layers.GlobalMaxPooling1D())\n",
    "model.add(keras.layers.Dense(8, activation='relu'))\n",
    "model.add(keras.layers.Dense(1, activation='sigmoid'))  # 최종 출력은 긍정/부정을 나타내는 1dim\n",
    "\n",
    "model.summary()"
   ]
  },
  {
   "cell_type": "code",
   "execution_count": 164,
   "id": "1bf05423",
   "metadata": {},
   "outputs": [
    {
     "name": "stdout",
     "output_type": "stream",
     "text": [
      "Epoch 1/5\n",
      "207/207 [==============================] - 1s 5ms/step - loss: 0.6253 - accuracy: 0.6959 - val_loss: 0.4842 - val_accuracy: 0.8103\n",
      "Epoch 2/5\n",
      "207/207 [==============================] - 1s 4ms/step - loss: 0.4078 - accuracy: 0.8301 - val_loss: 0.3806 - val_accuracy: 0.8295\n",
      "Epoch 3/5\n",
      "207/207 [==============================] - 1s 4ms/step - loss: 0.3462 - accuracy: 0.8539 - val_loss: 0.3655 - val_accuracy: 0.8361\n",
      "Epoch 4/5\n",
      "207/207 [==============================] - 1s 4ms/step - loss: 0.3164 - accuracy: 0.8677 - val_loss: 0.3630 - val_accuracy: 0.8401\n",
      "Epoch 5/5\n",
      "207/207 [==============================] - 1s 4ms/step - loss: 0.2944 - accuracy: 0.8789 - val_loss: 0.3652 - val_accuracy: 0.8407\n"
     ]
    }
   ],
   "source": [
    "model.compile(optimizer='adam',\n",
    "             loss='binary_crossentropy',\n",
    "             metrics=['accuracy'])\n",
    "\n",
    "epochs=5\n",
    "\n",
    "history = model.fit(partial_x_train,\n",
    "                   partial_y_train,\n",
    "                   epochs=epochs,\n",
    "                   batch_size=512,   #배치사이즈? \n",
    "                   validation_data=(x_val, y_val),\n",
    "                   verbose=1)"
   ]
  },
  {
   "cell_type": "code",
   "execution_count": 165,
   "id": "180f2d71",
   "metadata": {},
   "outputs": [
    {
     "name": "stdout",
     "output_type": "stream",
     "text": [
      "1532/1532 - 2s - loss: 0.3738 - accuracy: 0.8365\n",
      "[0.3737521469593048, 0.8364934921264648]\n"
     ]
    }
   ],
   "source": [
    "# GlobalMaxPooling1D 평가\n",
    "\n",
    "results = model.evaluate(x_test, y_test, verbose=2)\n",
    "print(results)"
   ]
  },
  {
   "cell_type": "code",
   "execution_count": 166,
   "id": "ec78db43",
   "metadata": {},
   "outputs": [
    {
     "data": {
      "image/png": "[encoded data removed]",
      "text/plain": [
       "<Figure size 576x288 with 2 Axes>"
      ]
     },
     "metadata": {
      "needs_background": "light"
     },
     "output_type": "display_data"
    }
   ],
   "source": [
    "# Accuracy, Loss 그래프 시각화\n",
    "\n",
    "history_dict = history.history\n",
    "acc = history_dict['accuracy']\n",
    "val_acc = history_dict['val_accuracy']\n",
    "loss = history_dict['loss']\n",
    "val_loss = history_dict['val_loss']\n",
    "\n",
    "epochs = range(1, len(acc) + 1)\n",
    "\n",
    "plt.figure(figsize=(8, 4))\n",
    "plt.subplot(1, 2, 1)\n",
    "plt.plot(epochs, acc, label='Accuracy')\n",
    "plt.plot(epochs, val_acc, 'red', label='Val_Accuracy')\n",
    "plt.legend(loc='lower right')\n",
    "plt.title('Accuracy')\n",
    "plt.xlabel('Epochs')\n",
    "plt.ylabel('Accuracy')\n",
    "\n",
    "\n",
    "plt.subplot(1, 2, 2)\n",
    "plt.plot(epochs, loss, label='Loss')\n",
    "plt.plot(epochs, val_loss, 'red', label='Val_Loss')\n",
    "plt.legend(loc='upper right')\n",
    "plt.title('Loss')\n",
    "plt.xlabel('Epochs')\n",
    "plt.ylabel('Loss')\n",
    "plt.show()"
   ]
  },
  {
   "cell_type": "markdown",
   "id": "7cb3b5e7",
   "metadata": {},
   "source": [
    "## 3. 학습된 Embedding 레이어 분석"
   ]
  },
  {
   "cell_type": "markdown",
   "id": "25034f3b",
   "metadata": {},
   "source": [
    "- gensim: "
   ]
  },
  {
   "cell_type": "code",
   "execution_count": 167,
   "id": "8b7616b7",
   "metadata": {},
   "outputs": [
    {
     "name": "stdout",
     "output_type": "stream",
     "text": [
      "(10000, 16)\n"
     ]
    }
   ],
   "source": [
    "import gensim\n",
    "from gensim.models.keyedvectors import Word2VecKeyedVectors\n",
    "from tensorflow.keras.initializers import Constant\n",
    "\n",
    "# 임베딩 레이어 차원 확인\n",
    "embedding_layer = model.layers[0]\n",
    "weights = embedding_layer.get_weights()[0]\n",
    "print(weights.shape)    # 출력 형태 : (vocab_size, embedding_dim)"
   ]
  },
  {
   "cell_type": "code",
   "execution_count": 168,
   "id": "eac4b65a",
   "metadata": {},
   "outputs": [],
   "source": [
    "import os\n",
    "\n",
    "# 학습한 Embedding 파라미터를 파일에 써서 저장\n",
    "word2vec_file_path = os.getenv('HOME')+'/aiffel/EXPLORATIONS/EX_06/sentiment_classification/data/word2vec.txt'\n",
    "f = open(word2vec_file_path, 'w')\n",
    "f.write('{} {}\\n'.format(vocab_size-4, word_vector_dim))  # 몇개의 벡터를 얼마 사이즈로 기재할지 타이틀을 기록\n",
    "\n",
    "# 단어 개수(에서 특수문자 4개는 제외하고)만큼의 워드 벡터를 파일에 기록\n",
    "vectors = model.get_weights()[0]\n",
    "for i in range(4,vocab_size):\n",
    "    f.write('{} {}\\n'.format(index_to_word[i], ' '.join(map(str, list(vectors[i, :])))))\n",
    "f.close()"
   ]
  },
  {
   "cell_type": "code",
   "execution_count": 169,
   "id": "43ef4ea0",
   "metadata": {},
   "outputs": [
    {
     "data": {
      "text/plain": [
       "[('꾀', 0.901489794254303),\n",
       " ('압권', 0.8978198766708374),\n",
       " ('전율', 0.8938953876495361),\n",
       " ('두말', 0.8908202052116394),\n",
       " ('결심', 0.88080894947052),\n",
       " ('무상', 0.8651760220527649),\n",
       " ('여인', 0.8591076731681824),\n",
       " ('훈훈', 0.8540787696838379),\n",
       " ('아쉬워', 0.8532572388648987),\n",
       " ('해석', 0.8529062271118164)]"
      ]
     },
     "execution_count": 169,
     "metadata": {},
     "output_type": "execute_result"
    }
   ],
   "source": [
    "# 파일에 기록된 임베딩 파라미터를 읽어서 word vector로 활용\n",
    "word_vectors = Word2VecKeyedVectors.load_word2vec_format(word2vec_file_path, binary=False)\n",
    "\n",
    "# 유사한 단어와 그 유사도 확인\n",
    "word_vectors.similar_by_word(\"사랑\")"
   ]
  },
  {
   "cell_type": "markdown",
   "id": "e2928cdb",
   "metadata": {},
   "source": [
    "'꾀''무상'하고 '아쉬워'(운)'해석'? \"사랑?\" 알 수 없는 단어가 많다"
   ]
  },
  {
   "cell_type": "markdown",
   "id": "5a9fb80a",
   "metadata": {},
   "source": [
    "## 4. 한국어 Word2Vec 임베딩 활용하여 성능 개선"
   ]
  },
  {
   "cell_type": "code",
   "execution_count": 29,
   "id": "b7376826",
   "metadata": {},
   "outputs": [
    {
     "data": {
      "text/plain": [
       "'4.1.2'"
      ]
     },
     "execution_count": 29,
     "metadata": {},
     "output_type": "execute_result"
    }
   ],
   "source": [
    "# gensim 패키지 버전 알아보기\n",
    "\n",
    "import gensim\n",
    "gensim.__version__"
   ]
  },
  {
   "cell_type": "markdown",
   "id": "db292998",
   "metadata": {},
   "source": [
    "gensim 버전을 3.x.x로 낮춰야 오류가 나지 않는다고 해서 downgrade\n",
    "pip install --upgrade gensim==3.8.3"
   ]
  },
  {
   "cell_type": "code",
   "execution_count": 58,
   "id": "7f44fa1e",
   "metadata": {},
   "outputs": [
    {
     "data": {
      "text/plain": [
       "'3.8.3'"
      ]
     },
     "execution_count": 58,
     "metadata": {},
     "output_type": "execute_result"
    }
   ],
   "source": [
    "import gensim\n",
    "gensim.__version__"
   ]
  },
  {
   "cell_type": "code",
   "execution_count": 70,
   "id": "30d19671",
   "metadata": {},
   "outputs": [
    {
     "name": "stderr",
     "output_type": "stream",
     "text": [
      "/tmp/ipykernel_1011/2398147980.py:5: DeprecationWarning: Call to deprecated `__getitem__` (Method will be removed in 4.0.0, use self.wv.__getitem__() instead).\n",
      "  vector = word2vec['행복']\n"
     ]
    },
    {
     "data": {
      "text/plain": [
       "array([-9.37647521e-01,  3.84321630e-01,  2.66711020e+00, -4.90441829e-01,\n",
       "       -1.87378454e+00,  7.46136725e-01,  2.06848055e-01,  1.17018402e+00,\n",
       "        1.76071718e-01,  3.52754295e-01,  3.27339917e-01,  6.24713361e-01,\n",
       "        4.98253882e-01, -2.54079252e-01,  1.86370641e-01,  5.02261400e-01,\n",
       "        5.70066161e-02,  1.03963447e+00,  4.08005528e-02,  8.49552810e-01,\n",
       "       -1.51971027e-01,  1.52919903e-01,  4.23378617e-01,  1.98788300e-01,\n",
       "        1.94235623e+00, -2.86525309e-01,  4.72732335e-01, -2.14849854e+00,\n",
       "       -1.26080573e+00, -1.48370254e+00, -7.26968274e-02, -5.65377235e-01,\n",
       "       -1.09561288e+00, -8.93630147e-01,  8.22069585e-01, -4.43008691e-01,\n",
       "        6.42822444e-01, -1.16659820e+00,  1.46968305e+00,  3.69109273e+00,\n",
       "       -3.84803802e-01,  1.05108881e+00,  2.13611469e-01, -1.45143092e+00,\n",
       "        5.02505243e-01,  7.05544576e-02,  1.83592427e+00, -6.79975271e-01,\n",
       "        3.81043881e-01,  2.86220014e-01, -3.55438769e-01,  4.01191115e-02,\n",
       "       -2.18128219e-01,  3.57237577e-01, -1.05672097e+00, -8.56383026e-01,\n",
       "        5.01443893e-02, -2.10841298e+00, -6.82635069e-01,  1.37372768e+00,\n",
       "        1.74011505e+00,  1.65592742e+00,  7.43449867e-01,  4.73941445e-01,\n",
       "       -2.09605321e-01,  5.07387042e-01, -2.66904473e-01,  2.30762553e+00,\n",
       "        9.43911314e-01, -1.79484308e-01, -4.74636853e-01,  7.43123651e-01,\n",
       "       -9.69141006e-01,  1.07185638e+00,  3.04059267e-01, -1.41069520e+00,\n",
       "        1.43436384e+00, -2.18488291e-01,  6.40276611e-01, -3.76534551e-01,\n",
       "       -6.39843464e-01, -2.19815850e+00,  8.00515041e-02,  2.39617094e-01,\n",
       "       -1.59744668e+00, -8.24819148e-01, -7.78260410e-01, -6.11576736e-01,\n",
       "       -1.71091521e+00, -7.09024251e-01, -7.56663457e-02, -2.93283558e+00,\n",
       "        1.12008333e+00, -8.73616338e-01, -7.98623204e-01,  1.20740056e+00,\n",
       "       -1.33505988e+00, -5.31908154e-01,  7.32603371e-01, -2.94772536e-01,\n",
       "       -7.41957307e-01,  2.66695172e-01, -2.54117668e-01, -3.16498488e-01,\n",
       "       -2.53271103e+00,  1.23276532e+00, -4.65467095e-01,  1.95745409e-01,\n",
       "       -3.06052828e+00, -1.72411609e+00, -8.69291723e-02, -1.01631391e+00,\n",
       "        1.35540202e-01, -4.10389930e-01,  5.17696977e-01, -9.21352744e-01,\n",
       "       -1.43972948e-01,  7.12622166e-01, -4.84758556e-01, -7.36877918e-01,\n",
       "        1.28522015e+00,  5.96004665e-01, -6.96237683e-01, -2.06515026e+00,\n",
       "        2.99054921e-01,  2.57981348e+00,  1.24758929e-01, -1.16612986e-01,\n",
       "        1.17532516e+00,  6.59984529e-01,  8.64598632e-01, -9.77743983e-01,\n",
       "        1.24154842e+00,  1.51769269e+00,  1.87096596e+00, -1.69182909e+00,\n",
       "        3.77366602e-01, -3.15761328e-01,  1.07878089e+00, -8.38944614e-01,\n",
       "        1.57406020e+00,  1.26247287e+00,  1.60818672e+00,  4.89655405e-01,\n",
       "       -9.56196666e-01, -1.16354994e-01, -1.04483902e+00, -1.01968300e+00,\n",
       "        4.62032884e-01,  2.91770607e-01, -1.56372988e+00, -2.25391793e+00,\n",
       "       -1.67305291e+00,  6.22754216e-01, -4.63402152e-01, -1.44247961e+00,\n",
       "        7.61960328e-01,  1.52420437e+00, -1.10674810e+00,  1.06103754e+00,\n",
       "        1.15935969e+00, -6.28344715e-02, -6.44562304e-01, -1.30466968e-01,\n",
       "        7.17003405e-01, -9.34351981e-01,  1.57684311e-01,  1.39414191e+00,\n",
       "       -1.55128384e+00,  1.29093862e+00, -1.00338387e+00, -3.34369874e+00,\n",
       "        9.63430882e-01,  3.26154470e-01, -3.66838351e-02, -1.54386711e+00,\n",
       "        6.11291051e-01, -3.62257898e-01,  1.09795833e+00,  1.64526093e+00,\n",
       "        2.73817778e-03, -3.38081606e-02,  1.24219441e+00, -2.27695346e+00,\n",
       "       -5.41662872e-01, -2.55753994e-01,  8.37883353e-01,  5.52775204e-01,\n",
       "        4.60804224e-01,  5.69246531e-01,  6.04159832e-01,  2.69762248e-01,\n",
       "        5.95691264e-01, -1.32518134e-03,  6.06130838e-01, -5.87025225e-01,\n",
       "        7.52696276e-01, -9.91011381e-01,  7.38178864e-02, -4.04879102e-04],\n",
       "      dtype=float32)"
      ]
     },
     "execution_count": 70,
     "metadata": {},
     "output_type": "execute_result"
    }
   ],
   "source": [
    "# 한국어 Word2Vec 파일 불러오기\n",
    "\n",
    "word2vec_path = os.getenv('HOME')+'/aiffel/EXPLORATIONS/EX_06/sentiment_classification/data/ko.bin'\n",
    "word2vec = gensim.models.Word2Vec.load(word2vec_path)\n",
    "vector = word2vec['행복']\n",
    "vector "
   ]
  },
  {
   "cell_type": "code",
   "execution_count": 71,
   "id": "38196c4a",
   "metadata": {},
   "outputs": [
    {
     "data": {
      "text/plain": [
       "[('슬픔', 0.7216662764549255),\n",
       " ('행복', 0.6759077310562134),\n",
       " ('절망', 0.6468985080718994),\n",
       " ('기쁨', 0.6458414196968079),\n",
       " ('이별', 0.6334798336029053),\n",
       " ('추억', 0.6320937275886536),\n",
       " ('인생', 0.6216273307800293),\n",
       " ('애정', 0.6206069588661194),\n",
       " ('연인', 0.6186063289642334),\n",
       " ('유혹', 0.5965287685394287)]"
      ]
     },
     "execution_count": 71,
     "metadata": {},
     "output_type": "execute_result"
    }
   ],
   "source": [
    "from gensim.models import KeyedVectors\n",
    "\n",
    "# 유사한 단어와 그 유사도 확인\n",
    "word2vec.wv.most_similar(\"사랑\")"
   ]
  },
  {
   "cell_type": "code",
   "execution_count": 72,
   "id": "9f7344c6",
   "metadata": {},
   "outputs": [
    {
     "name": "stderr",
     "output_type": "stream",
     "text": [
      "/tmp/ipykernel_1011/2052740127.py:8: DeprecationWarning: Call to deprecated `__contains__` (Method will be removed in 4.0.0, use self.wv.__contains__() instead).\n",
      "  if index_to_word[i] in word2vec:\n",
      "/tmp/ipykernel_1011/2052740127.py:9: DeprecationWarning: Call to deprecated `__getitem__` (Method will be removed in 4.0.0, use self.wv.__getitem__() instead).\n",
      "  embedding_matrix[i] = word2vec[index_to_word[i]]\n"
     ]
    }
   ],
   "source": [
    "vocab_size = 10000     # 단어 사전의 크기(10,000개의 단어)\n",
    "word_vector_dim = 200  # 워드 벡터의 차원 수\n",
    "\n",
    "embedding_matrix = np.random.rand(vocab_size, word_vector_dim) # 사전학습된 임베딩 레이어의 차원 수 그대로 따라가는 것이 좋다\n",
    "\n",
    "#embedding_matrix에 Word2Vec 워드벡터를 단어 하나씩 순서대로 카피\n",
    "for i in range(4,vocab_size):\n",
    "    if index_to_word[i] in word2vec:\n",
    "        embedding_matrix[i] = word2vec[index_to_word[i]]"
   ]
  },
  {
   "cell_type": "code",
   "execution_count": 101,
   "id": "ea92e391",
   "metadata": {},
   "outputs": [
    {
     "name": "stdout",
     "output_type": "stream",
     "text": [
      "Model: \"sequential_12\"\n",
      "_________________________________________________________________\n",
      "Layer (type)                 Output Shape              Param #   \n",
      "=================================================================\n",
      "embedding_12 (Embedding)     (None, 36, 200)           2000000   \n",
      "_________________________________________________________________\n",
      "lstm_12 (LSTM)               (None, 128)               168448    \n",
      "_________________________________________________________________\n",
      "dense_20 (Dense)             (None, 1)                 129       \n",
      "=================================================================\n",
      "Total params: 2,168,577\n",
      "Trainable params: 2,168,577\n",
      "Non-trainable params: 0\n",
      "_________________________________________________________________\n"
     ]
    }
   ],
   "source": [
    "# LSTM 모델의 Embedding 레이어 교체\n",
    "\n",
    "model = keras.Sequential()\n",
    "model.add(keras.layers.Embedding(vocab_size, word_vector_dim, \n",
    "                                 embeddings_initializer=Constant(embedding_matrix),  # 카피한 임베딩을 여기서 활용\n",
    "                                 input_length=maxlen, \n",
    "                                 trainable=True))   # trainable을 True로 주면 Fine-tuning\n",
    "model.add(keras.layers.LSTM(128))\n",
    "model.add(keras.layers.Dense(1, activation='sigmoid'))\n",
    "\n",
    "model.summary()"
   ]
  },
  {
   "cell_type": "code",
   "execution_count": 106,
   "id": "31e520b2",
   "metadata": {},
   "outputs": [
    {
     "name": "stdout",
     "output_type": "stream",
     "text": [
      "Epoch 1/5\n",
      "207/207 [==============================] - 4s 15ms/step - loss: 0.0321 - accuracy: 0.9886 - val_loss: 0.8321 - val_accuracy: 0.8390\n",
      "Epoch 2/5\n",
      "207/207 [==============================] - 3s 13ms/step - loss: 0.0300 - accuracy: 0.9892 - val_loss: 0.8859 - val_accuracy: 0.8378\n",
      "Epoch 3/5\n",
      "207/207 [==============================] - 3s 13ms/step - loss: 0.0292 - accuracy: 0.9895 - val_loss: 0.8564 - val_accuracy: 0.8407\n",
      "Epoch 4/5\n",
      "207/207 [==============================] - 3s 13ms/step - loss: 0.0267 - accuracy: 0.9902 - val_loss: 0.9256 - val_accuracy: 0.8407\n",
      "Epoch 5/5\n",
      "207/207 [==============================] - 3s 13ms/step - loss: 0.0253 - accuracy: 0.9908 - val_loss: 0.9050 - val_accuracy: 0.8396\n"
     ]
    }
   ],
   "source": [
    "model.compile(optimizer='adam',\n",
    "             loss='binary_crossentropy',\n",
    "             metrics=['accuracy'])\n",
    "\n",
    "epochs=10\n",
    "\n",
    "history = model.fit(partial_x_train,\n",
    "                    partial_y_train,\n",
    "                    epochs=epochs,\n",
    "                    batch_size=512,   #배치사이즈? \n",
    "                    validation_data=(x_val, y_val),\n",
    "                    verbose=1)"
   ]
  },
  {
   "cell_type": "code",
   "execution_count": 107,
   "id": "7c574795",
   "metadata": {},
   "outputs": [
    {
     "name": "stdout",
     "output_type": "stream",
     "text": [
      "1532/1532 - 3s - loss: 0.9068 - accuracy: 0.8384\n",
      "[0.9068184494972229, 0.8383916616439819]\n"
     ]
    }
   ],
   "source": [
    "results = model.evaluate(x_test, y_test, verbose=2)\n",
    "print(results)"
   ]
  },
  {
   "cell_type": "code",
   "execution_count": 85,
   "id": "9c70df20",
   "metadata": {},
   "outputs": [
    {
     "data": {
      "image/png": "[encoded data removed]",
      "text/plain": [
       "<Figure size 576x288 with 2 Axes>"
      ]
     },
     "metadata": {
      "needs_background": "light"
     },
     "output_type": "display_data"
    }
   ],
   "source": [
    "# Accuracy, Loss 그래프 시각화\n",
    "\n",
    "history_dict = history.history\n",
    "acc = history_dict['accuracy']\n",
    "val_acc = history_dict['val_accuracy']\n",
    "loss = history_dict['loss']\n",
    "val_loss = history_dict['val_loss']\n",
    "\n",
    "epochs = range(1, len(acc) + 1)\n",
    "\n",
    "plt.figure(figsize=(8, 4))\n",
    "plt.subplot(1, 2, 1)\n",
    "plt.plot(epochs, acc, label='Accuracy')\n",
    "plt.plot(epochs, val_acc, 'red', label='Val_Accuracy')\n",
    "plt.legend(loc='lower right')\n",
    "plt.title('Accuracy')\n",
    "plt.xlabel('Epochs')\n",
    "plt.ylabel('Accuracy')\n",
    "\n",
    "\n",
    "plt.subplot(1, 2, 2)\n",
    "plt.plot(epochs, loss, label='Loss')\n",
    "plt.plot(epochs, val_loss, 'red', label='Val_Loss')\n",
    "plt.legend(loc='upper right')\n",
    "plt.title('Loss')\n",
    "plt.xlabel('Epochs')\n",
    "plt.ylabel('Loss')\n",
    "plt.show()"
   ]
  },
  {
   "cell_type": "markdown",
   "id": "1816f8c1",
   "metadata": {},
   "source": [
    "#### trial and error\n",
    "\n",
    "accuracy: 0.84구간에서 많이 헤맸다 최소 0.842부터 0.8475까지 하 결국 포기 ^^...\n",
    "\n",
    "word2vec을 써서 성능을 높히진 못했지만 재밌었다.\n",
    "저번주에 했던 작사가 만들기와는 또 다르게 이제 어느정도 알겠어!라는 마음으로 임해서 그런지 잘하고 싶었던 NLP노드였다.\n",
    "1)data_loader를 구성하는 부분에선 조금 벅찼는데 다행히 좋은 자료를 발견해서 하나씩 할 수 있었고\n",
    "2)각 모델의 하이퍼파라미터를 바꾸는 부분에서 여전히 값을 조정하며 약간은 피곤했지만\n",
    "3)결국 마지막 성능도 원하는 만큼 높히진 못했지만\n",
    "이렇게 하는거구나? OK를 알게된 이번 노드.\n",
    "\n",
    "빨리 하고 있는 다른 게 끝나서 EDA 그리고 모델 공부를 더 자세히 해보고 싶다 :D"
   ]
  }
 ],
 "metadata": {
  "kernelspec": {
   "display_name": "Python 3 (ipykernel)",
   "language": "python",
   "name": "python3"
  },
  "language_info": {
   "codemirror_mode": {
    "name": "ipython",
    "version": 3
   },
   "file_extension": ".py",
   "mimetype": "text/x-python",
   "name": "python",
   "nbconvert_exporter": "python",
   "pygments_lexer": "ipython3",
   "version": "3.9.7"
  }
 },
 "nbformat": 4,
 "nbformat_minor": 5
}
